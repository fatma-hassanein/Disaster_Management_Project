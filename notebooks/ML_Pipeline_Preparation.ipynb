{
 "cells": [
  {
   "cell_type": "markdown",
   "metadata": {},
   "source": [
    "# ML Pipeline Preparation\n",
    "Follow the instructions below to help you create your ML pipeline.\n",
    "### 1. Import libraries and load data from database.\n",
    "- Import Python libraries\n",
    "- Load dataset from database with [`read_sql_table`](https://pandas.pydata.org/pandas-docs/stable/generated/pandas.read_sql_table.html)\n",
    "- Define feature and target variables X and Y"
   ]
  },
  {
   "cell_type": "code",
   "execution_count": 2,
   "metadata": {},
   "outputs": [
    {
     "name": "stdout",
     "output_type": "stream",
     "text": [
      "Requirement already satisfied: nltk in /opt/conda/lib/python3.6/site-packages (3.2.5)\n",
      "Requirement already satisfied: six in /opt/conda/lib/python3.6/site-packages (from nltk) (1.11.0)\n"
     ]
    }
   ],
   "source": [
    "!pip install nltk"
   ]
  },
  {
   "cell_type": "code",
   "execution_count": 3,
   "metadata": {},
   "outputs": [
    {
     "name": "stdout",
     "output_type": "stream",
     "text": [
      "[nltk_data] Downloading package punkt to /root/nltk_data...\n",
      "[nltk_data]   Unzipping tokenizers/punkt.zip.\n",
      "[nltk_data] Downloading package wordnet to /root/nltk_data...\n",
      "[nltk_data]   Unzipping corpora/wordnet.zip.\n",
      "[nltk_data] Downloading package averaged_perceptron_tagger to\n",
      "[nltk_data]     /root/nltk_data...\n",
      "[nltk_data]   Unzipping taggers/averaged_perceptron_tagger.zip.\n"
     ]
    },
    {
     "data": {
      "text/plain": [
       "True"
      ]
     },
     "execution_count": 3,
     "metadata": {},
     "output_type": "execute_result"
    }
   ],
   "source": [
    "import nltk\n",
    "nltk.download('punkt')\n",
    "nltk.download('wordnet')\n",
    "nltk.download('averaged_perceptron_tagger')"
   ]
  },
  {
   "cell_type": "code",
   "execution_count": 4,
   "metadata": {},
   "outputs": [],
   "source": [
    "# import libraries\n",
    "from sqlalchemy import create_engine \n",
    "import nltk\n",
    "import pandas as pd\n",
    "import sqlite3\n",
    "import pickle\n",
    "\n",
    "import re\n",
    "import numpy as np\n",
    "from nltk.tokenize import word_tokenize\n",
    "from nltk.stem import WordNetLemmatizer\n",
    "\n",
    "from sklearn.datasets import make_multilabel_classification\n",
    "from sklearn.multioutput import MultiOutputClassifier\n",
    "from sklearn.neighbors import KNeighborsClassifier\n",
    "from sklearn.ensemble import RandomForestClassifier\n",
    "from sklearn.model_selection import train_test_split,GridSearchCV\n",
    "from sklearn.metrics import classification_report\n",
    "from sklearn.pipeline import Pipeline, FeatureUnion\n",
    "from sklearn.base import BaseEstimator, TransformerMixin\n",
    "from sklearn.feature_extraction.text import CountVectorizer, TfidfTransformer"
   ]
  },
  {
   "cell_type": "code",
   "execution_count": 5,
   "metadata": {},
   "outputs": [],
   "source": [
    "# load data from database\n",
    "engine = create_engine('sqlite:///Disaster_Analysis.db')\n",
    "df = pd.read_sql_table('Messages_with_Cats', engine)\n",
    "\n",
    "# Choose the X and Y (feature and target variables) for ML Model\n",
    "X = df['message']\n",
    "Y = df.iloc[:,4:]\n"
   ]
  },
  {
   "cell_type": "markdown",
   "metadata": {},
   "source": [
    "### 2. Write a tokenization function to process your text data"
   ]
  },
  {
   "cell_type": "code",
   "execution_count": 6,
   "metadata": {},
   "outputs": [],
   "source": [
    "def tokenize(text):\n",
    "    \n",
    "    '''\n",
    "    INPUT \n",
    "        text: Text to be processed   \n",
    "    OUTPUT\n",
    "        Returns an array of words after being processed; by being tokenized, lower cased, stripped, and lemmatized\n",
    "    '''\n",
    "    \n",
    "    url_regex = 'http[s]?://(?:[a-zA-Z]|[0-9]|[$-_@.&+]|[!*\\(\\),]|(?:%[0-9a-fA-F][0-9a-fA-F]))+'\n",
    "\n",
    "    detected_urls = re.findall(url_regex, text)\n",
    "    for url in detected_urls:\n",
    "        text = text.replace(url, \"urlplaceholder\")\n",
    "\n",
    "    tokens = word_tokenize(text)\n",
    "    lemmatizer = WordNetLemmatizer()\n",
    "\n",
    "    clean_tokens = []\n",
    "    for tok in tokens:\n",
    "        clean_tok = lemmatizer.lemmatize(tok).lower().strip()\n",
    "        clean_tokens.append(clean_tok)\n",
    "\n",
    "    return clean_tokens"
   ]
  },
  {
   "cell_type": "markdown",
   "metadata": {},
   "source": [
    "### 3. Build a machine learning pipeline\n",
    "This machine pipeline should take in the `message` column as input and output classification results on the other 36 categories in the dataset. You may find the [MultiOutputClassifier](http://scikit-learn.org/stable/modules/generated/sklearn.multioutput.MultiOutputClassifier.html) helpful for predicting multiple target variables."
   ]
  },
  {
   "cell_type": "code",
   "execution_count": 7,
   "metadata": {},
   "outputs": [],
   "source": [
    "class StartingVerbExtractor(BaseEstimator, TransformerMixin):\n",
    "    \n",
    "    '''\n",
    "    Define a custom estimator that extract the feature from a sentence checking if the text is starting with a verb\n",
    "    \n",
    "    '''\n",
    "\n",
    "    def starting_verb(self, text):\n",
    "        sentence_list = nltk.sent_tokenize(text)\n",
    "        for sentence in sentence_list:\n",
    "            pos_tags = nltk.pos_tag(tokenize(sentence))\n",
    "            first_word, first_tag = pos_tags[0]\n",
    "            if first_tag in ['VB', 'VBP'] or first_word == 'RT':\n",
    "                first_word, first_tag = pos_tags[0]\n",
    "            if first_tag in ['VB', 'VBP'] or first_word == 'RT':\n",
    "                return True\n",
    "                return True\n",
    "        return False\n",
    "\n",
    "    def fit(self, X, y=None):\n",
    "        return self\n",
    "\n",
    "    def transform(self, X):\n",
    "        X_tagged = pd.Series(X).apply(self.starting_verb)\n",
    "        return pd.DataFrame(X_tagged)"
   ]
  },
  {
   "cell_type": "code",
   "execution_count": 8,
   "metadata": {},
   "outputs": [],
   "source": [
    "def model_pipeline():\n",
    "    \n",
    "    pipeline = Pipeline([\n",
    "            ('features', FeatureUnion([\n",
    "\n",
    "                ('text_pipeline', Pipeline([\n",
    "                    ('vect', CountVectorizer(tokenizer=tokenize)),\n",
    "                    ('tfidf', TfidfTransformer())\n",
    "                ]))\n",
    "            ])),\n",
    "        \n",
    "            ('clf', MultiOutputClassifier(KNeighborsClassifier()))\n",
    "        ])\n",
    "    return pipeline"
   ]
  },
  {
   "cell_type": "code",
   "execution_count": 24,
   "metadata": {},
   "outputs": [],
   "source": [
    "def model_pipeline_improved():\n",
    "    \n",
    "    pipeline = Pipeline([\n",
    "            ('features', FeatureUnion([\n",
    "\n",
    "                ('text_pipeline', Pipeline([\n",
    "                    ('vect', CountVectorizer(tokenizer=tokenize)),\n",
    "                    ('tfidf', TfidfTransformer())\n",
    "                ])),\n",
    "\n",
    "                ('starting_verb', StartingVerbExtractor())\n",
    "            ])),\n",
    "\n",
    "            ('clf', MultiOutputClassifier(KNeighborsClassifier(n_neighbors=10)))\n",
    "        ])\n",
    "    return pipeline"
   ]
  },
  {
   "cell_type": "markdown",
   "metadata": {},
   "source": [
    "### 4. Train pipeline\n",
    "- Split data into train and test sets\n",
    "- Train pipeline"
   ]
  },
  {
   "cell_type": "code",
   "execution_count": 10,
   "metadata": {},
   "outputs": [
    {
     "data": {
      "text/plain": [
       "Pipeline(memory=None,\n",
       "     steps=[('features', FeatureUnion(n_jobs=1,\n",
       "       transformer_list=[('text_pipeline', Pipeline(memory=None,\n",
       "     steps=[('vect', CountVectorizer(analyzer='word', binary=False, decode_error='strict',\n",
       "        dtype=<class 'numpy.int64'>, encoding='utf-8', input='content',\n",
       "        lowercase=True, max_d...ric_params=None, n_jobs=1, n_neighbors=5, p=2,\n",
       "           weights='uniform'),\n",
       "           n_jobs=1))])"
      ]
     },
     "execution_count": 10,
     "metadata": {},
     "output_type": "execute_result"
    }
   ],
   "source": [
    "# Split data into train and test sets\n",
    "X_train, X_test, y_train, y_test = train_test_split(X, Y)\n",
    "\n",
    "# Define the model and fit the training dataset\n",
    "model = model_pipeline()\n",
    "model.fit(X_train, y_train)"
   ]
  },
  {
   "cell_type": "markdown",
   "metadata": {},
   "source": [
    "### 5. Test your model\n",
    "Report the f1 score, precision and recall for each output category of the dataset. You can do this by iterating through the columns and calling sklearn's `classification_report` on each."
   ]
  },
  {
   "cell_type": "code",
   "execution_count": 11,
   "metadata": {},
   "outputs": [],
   "source": [
    "# Predict from trained model using the test dataset\n",
    "y_pred = model.predict(X_test)"
   ]
  },
  {
   "cell_type": "code",
   "execution_count": 12,
   "metadata": {},
   "outputs": [
    {
     "name": "stdout",
     "output_type": "stream",
     "text": [
      "                        precision    recall  f1-score   support\n",
      "\n",
      "               related       0.82      0.95      0.88      5069\n",
      "               request       0.70      0.49      0.58      1140\n",
      "                 offer       0.00      0.00      0.00        31\n",
      "           aid_related       0.66      0.52      0.58      2756\n",
      "          medical_help       0.30      0.17      0.22       554\n",
      "      medical_products       0.26      0.21      0.23       357\n",
      "     search_and_rescue       0.56      0.05      0.09       192\n",
      "              security       0.17      0.01      0.02       114\n",
      "              military       0.47      0.07      0.12       210\n",
      "           child_alone       0.00      0.00      0.00         0\n",
      "                 water       0.43      0.33      0.38       412\n",
      "                  food       0.43      0.38      0.40       722\n",
      "               shelter       0.37      0.31      0.34       583\n",
      "              clothing       0.61      0.21      0.31        97\n",
      "                 money       0.35      0.12      0.18       154\n",
      "        missing_people       1.00      0.01      0.02        80\n",
      "              refugees       0.20      0.06      0.09       230\n",
      "                 death       0.20      0.20      0.20       298\n",
      "             other_aid       0.32      0.05      0.09       902\n",
      "infrastructure_related       0.21      0.05      0.07       463\n",
      "             transport       0.51      0.11      0.18       305\n",
      "             buildings       0.41      0.16      0.23       340\n",
      "           electricity       0.33      0.08      0.13       129\n",
      "                 tools       0.00      0.00      0.00        42\n",
      "             hospitals       0.00      0.00      0.00        88\n",
      "                 shops       0.00      0.00      0.00        25\n",
      "           aid_centers       0.00      0.00      0.00        87\n",
      "  other_infrastructure       0.20      0.03      0.05       314\n",
      "       weather_related       0.66      0.53      0.59      1871\n",
      "                floods       0.42      0.29      0.35       569\n",
      "                 storm       0.53      0.39      0.45       657\n",
      "                  fire       0.42      0.08      0.14        62\n",
      "            earthquake       0.61      0.46      0.52       607\n",
      "                  cold       0.44      0.09      0.15       136\n",
      "         other_weather       0.26      0.06      0.09       341\n",
      "         direct_report       0.67      0.41      0.51      1302\n",
      "\n",
      "           avg / total       0.58      0.48      0.50     21239\n",
      "\n"
     ]
    },
    {
     "name": "stderr",
     "output_type": "stream",
     "text": [
      "/opt/conda/lib/python3.6/site-packages/sklearn/metrics/classification.py:1135: UndefinedMetricWarning: Precision and F-score are ill-defined and being set to 0.0 in labels with no predicted samples.\n",
      "  'precision', 'predicted', average, warn_for)\n",
      "/opt/conda/lib/python3.6/site-packages/sklearn/metrics/classification.py:1137: UndefinedMetricWarning: Recall and F-score are ill-defined and being set to 0.0 in labels with no true samples.\n",
      "  'recall', 'true', average, warn_for)\n"
     ]
    }
   ],
   "source": [
    "print(classification_report(y_test.values, y_pred,target_names=Y.columns.values))"
   ]
  },
  {
   "cell_type": "markdown",
   "metadata": {},
   "source": [
    "### 6. Improve your model\n",
    "Use grid search to find better parameters. "
   ]
  },
  {
   "cell_type": "code",
   "execution_count": 11,
   "metadata": {},
   "outputs": [],
   "source": [
    "parameters = {\n",
    "    'clf__estimator__n_neighbors': [3, 7, 10],\n",
    "    'clf__estimator__weights': ['uniform', 'distance']\n",
    "}\n",
    "\n",
    "# Create new model with same pipeline and apply grid search on it\n",
    "model2 = model_pipeline()\n",
    "\n",
    "cv = GridSearchCV(model2, param_grid = parameters, cv=2, scoring='accuracy', verbose=10)"
   ]
  },
  {
   "cell_type": "code",
   "execution_count": 12,
   "metadata": {},
   "outputs": [
    {
     "data": {
      "text/plain": [
       "dict_keys(['cv', 'error_score', 'estimator__memory', 'estimator__steps', 'estimator__features', 'estimator__clf', 'estimator__features__n_jobs', 'estimator__features__transformer_list', 'estimator__features__transformer_weights', 'estimator__features__text_pipeline', 'estimator__features__text_pipeline__memory', 'estimator__features__text_pipeline__steps', 'estimator__features__text_pipeline__vect', 'estimator__features__text_pipeline__tfidf', 'estimator__features__text_pipeline__vect__analyzer', 'estimator__features__text_pipeline__vect__binary', 'estimator__features__text_pipeline__vect__decode_error', 'estimator__features__text_pipeline__vect__dtype', 'estimator__features__text_pipeline__vect__encoding', 'estimator__features__text_pipeline__vect__input', 'estimator__features__text_pipeline__vect__lowercase', 'estimator__features__text_pipeline__vect__max_df', 'estimator__features__text_pipeline__vect__max_features', 'estimator__features__text_pipeline__vect__min_df', 'estimator__features__text_pipeline__vect__ngram_range', 'estimator__features__text_pipeline__vect__preprocessor', 'estimator__features__text_pipeline__vect__stop_words', 'estimator__features__text_pipeline__vect__strip_accents', 'estimator__features__text_pipeline__vect__token_pattern', 'estimator__features__text_pipeline__vect__tokenizer', 'estimator__features__text_pipeline__vect__vocabulary', 'estimator__features__text_pipeline__tfidf__norm', 'estimator__features__text_pipeline__tfidf__smooth_idf', 'estimator__features__text_pipeline__tfidf__sublinear_tf', 'estimator__features__text_pipeline__tfidf__use_idf', 'estimator__clf__estimator__algorithm', 'estimator__clf__estimator__leaf_size', 'estimator__clf__estimator__metric', 'estimator__clf__estimator__metric_params', 'estimator__clf__estimator__n_jobs', 'estimator__clf__estimator__n_neighbors', 'estimator__clf__estimator__p', 'estimator__clf__estimator__weights', 'estimator__clf__estimator', 'estimator__clf__n_jobs', 'estimator', 'fit_params', 'iid', 'n_jobs', 'param_grid', 'pre_dispatch', 'refit', 'return_train_score', 'scoring', 'verbose'])"
      ]
     },
     "execution_count": 12,
     "metadata": {},
     "output_type": "execute_result"
    }
   ],
   "source": [
    "cv.get_params().keys()"
   ]
  },
  {
   "cell_type": "markdown",
   "metadata": {},
   "source": [
    "### 7. Test your model\n",
    "Show the accuracy, precision, and recall of the tuned model.  \n",
    "\n",
    "Since this project focuses on code quality, process, and  pipelines, there is no minimum performance metric needed to pass. However, make sure to fine tune your models for accuracy, precision and recall to make your project stand out - especially for your portfolio!"
   ]
  },
  {
   "cell_type": "code",
   "execution_count": 13,
   "metadata": {},
   "outputs": [
    {
     "name": "stdout",
     "output_type": "stream",
     "text": [
      "Fitting 2 folds for each of 6 candidates, totalling 12 fits\n",
      "[CV] clf__estimator__n_neighbors=3, clf__estimator__weights=uniform ..\n",
      "[CV]  clf__estimator__n_neighbors=3, clf__estimator__weights=uniform, score=0.1930627606550707, total= 3.6min\n",
      "[CV] clf__estimator__n_neighbors=3, clf__estimator__weights=uniform ..\n"
     ]
    },
    {
     "name": "stderr",
     "output_type": "stream",
     "text": [
      "[Parallel(n_jobs=1)]: Done   1 out of   1 | elapsed:  7.1min remaining:    0.0s\n"
     ]
    },
    {
     "name": "stdout",
     "output_type": "stream",
     "text": [
      "[CV]  clf__estimator__n_neighbors=3, clf__estimator__weights=uniform, score=0.21414038657171922, total= 3.6min\n",
      "[CV] clf__estimator__n_neighbors=3, clf__estimator__weights=distance .\n"
     ]
    },
    {
     "name": "stderr",
     "output_type": "stream",
     "text": [
      "[Parallel(n_jobs=1)]: Done   2 out of   2 | elapsed: 14.1min remaining:    0.0s\n"
     ]
    },
    {
     "name": "stdout",
     "output_type": "stream",
     "text": [
      "[CV]  clf__estimator__n_neighbors=3, clf__estimator__weights=distance, score=0.19296104160309227, total= 3.4min\n",
      "[CV] clf__estimator__n_neighbors=3, clf__estimator__weights=distance .\n"
     ]
    },
    {
     "name": "stderr",
     "output_type": "stream",
     "text": [
      "[Parallel(n_jobs=1)]: Done   3 out of   3 | elapsed: 20.8min remaining:    0.0s\n"
     ]
    },
    {
     "name": "stdout",
     "output_type": "stream",
     "text": [
      "[CV]  clf__estimator__n_neighbors=3, clf__estimator__weights=distance, score=0.2145473041709054, total= 3.4min\n",
      "[CV] clf__estimator__n_neighbors=7, clf__estimator__weights=uniform ..\n"
     ]
    },
    {
     "name": "stderr",
     "output_type": "stream",
     "text": [
      "[Parallel(n_jobs=1)]: Done   4 out of   4 | elapsed: 27.4min remaining:    0.0s\n"
     ]
    },
    {
     "name": "stdout",
     "output_type": "stream",
     "text": [
      "[CV]  clf__estimator__n_neighbors=7, clf__estimator__weights=uniform, score=0.19316447970704914, total= 3.8min\n",
      "[CV] clf__estimator__n_neighbors=7, clf__estimator__weights=uniform ..\n"
     ]
    },
    {
     "name": "stderr",
     "output_type": "stream",
     "text": [
      "[Parallel(n_jobs=1)]: Done   5 out of   5 | elapsed: 35.0min remaining:    0.0s\n"
     ]
    },
    {
     "name": "stdout",
     "output_type": "stream",
     "text": [
      "[CV]  clf__estimator__n_neighbors=7, clf__estimator__weights=uniform, score=0.2069175991861648, total= 4.0min\n",
      "[CV] clf__estimator__n_neighbors=7, clf__estimator__weights=distance .\n"
     ]
    },
    {
     "name": "stderr",
     "output_type": "stream",
     "text": [
      "[Parallel(n_jobs=1)]: Done   6 out of   6 | elapsed: 43.0min remaining:    0.0s\n"
     ]
    },
    {
     "name": "stdout",
     "output_type": "stream",
     "text": [
      "[CV]  clf__estimator__n_neighbors=7, clf__estimator__weights=distance, score=0.19285932255111382, total= 3.7min\n",
      "[CV] clf__estimator__n_neighbors=7, clf__estimator__weights=distance .\n"
     ]
    },
    {
     "name": "stderr",
     "output_type": "stream",
     "text": [
      "[Parallel(n_jobs=1)]: Done   7 out of   7 | elapsed: 50.3min remaining:    0.0s\n"
     ]
    },
    {
     "name": "stdout",
     "output_type": "stream",
     "text": [
      "[CV]  clf__estimator__n_neighbors=7, clf__estimator__weights=distance, score=0.20742624618514752, total= 3.9min\n",
      "[CV] clf__estimator__n_neighbors=10, clf__estimator__weights=uniform .\n"
     ]
    },
    {
     "name": "stderr",
     "output_type": "stream",
     "text": [
      "[Parallel(n_jobs=1)]: Done   8 out of   8 | elapsed: 57.9min remaining:    0.0s\n"
     ]
    },
    {
     "name": "stdout",
     "output_type": "stream",
     "text": [
      "[CV]  clf__estimator__n_neighbors=10, clf__estimator__weights=uniform, score=0.20750686603600854, total= 3.9min\n",
      "[CV] clf__estimator__n_neighbors=10, clf__estimator__weights=uniform .\n"
     ]
    },
    {
     "name": "stderr",
     "output_type": "stream",
     "text": [
      "[Parallel(n_jobs=1)]: Done   9 out of   9 | elapsed: 65.7min remaining:    0.0s\n"
     ]
    },
    {
     "name": "stdout",
     "output_type": "stream",
     "text": [
      "[CV]  clf__estimator__n_neighbors=10, clf__estimator__weights=uniform, score=0.21627670396744658, total= 4.1min\n",
      "[CV] clf__estimator__n_neighbors=10, clf__estimator__weights=distance \n",
      "[CV]  clf__estimator__n_neighbors=10, clf__estimator__weights=distance, score=0.19580917505848847, total= 3.9min\n",
      "[CV] clf__estimator__n_neighbors=10, clf__estimator__weights=distance \n",
      "[CV]  clf__estimator__n_neighbors=10, clf__estimator__weights=distance, score=0.20742624618514752, total= 3.8min\n"
     ]
    },
    {
     "name": "stderr",
     "output_type": "stream",
     "text": [
      "[Parallel(n_jobs=1)]: Done  12 out of  12 | elapsed: 88.8min finished\n"
     ]
    },
    {
     "data": {
      "text/plain": [
       "GridSearchCV(cv=2, error_score='raise',\n",
       "       estimator=Pipeline(memory=None,\n",
       "     steps=[('features', FeatureUnion(n_jobs=1,\n",
       "       transformer_list=[('text_pipeline', Pipeline(memory=None,\n",
       "     steps=[('vect', CountVectorizer(analyzer='word', binary=False, decode_error='strict',\n",
       "        dtype=<class 'numpy.int64'>, encoding='utf-8', input='content',\n",
       "        lowercase=True, max_d...ric_params=None, n_jobs=1, n_neighbors=5, p=2,\n",
       "           weights='uniform'),\n",
       "           n_jobs=1))]),\n",
       "       fit_params=None, iid=True, n_jobs=1,\n",
       "       param_grid={'clf__estimator__n_neighbors': [3, 7, 10], 'clf__estimator__weights': ['uniform', 'distance']},\n",
       "       pre_dispatch='2*n_jobs', refit=True, return_train_score='warn',\n",
       "       scoring='accuracy', verbose=10)"
      ]
     },
     "execution_count": 13,
     "metadata": {},
     "output_type": "execute_result"
    }
   ],
   "source": [
    "cv.fit(X_train, y_train)\n",
    "#cv.get_params()"
   ]
  },
  {
   "cell_type": "code",
   "execution_count": 14,
   "metadata": {},
   "outputs": [],
   "source": [
    "y_pred2 = cv.predict(X_test)"
   ]
  },
  {
   "cell_type": "code",
   "execution_count": 19,
   "metadata": {},
   "outputs": [
    {
     "data": {
      "text/plain": [
       "Pipeline(memory=None,\n",
       "     steps=[('features', FeatureUnion(n_jobs=1,\n",
       "       transformer_list=[('text_pipeline', Pipeline(memory=None,\n",
       "     steps=[('vect', CountVectorizer(analyzer='word', binary=False, decode_error='strict',\n",
       "        dtype=<class 'numpy.int64'>, encoding='utf-8', input='content',\n",
       "        lowercase=True, max_d...ic_params=None, n_jobs=1, n_neighbors=10, p=2,\n",
       "           weights='uniform'),\n",
       "           n_jobs=1))])"
      ]
     },
     "execution_count": 19,
     "metadata": {},
     "output_type": "execute_result"
    }
   ],
   "source": [
    "best_clf = cv.best_estimator_\n",
    "best_clf"
   ]
  },
  {
   "cell_type": "code",
   "execution_count": 17,
   "metadata": {},
   "outputs": [
    {
     "name": "stdout",
     "output_type": "stream",
     "text": [
      "                        precision    recall  f1-score   support\n",
      "\n",
      "               related       0.84      0.93      0.88      5075\n",
      "               request       0.76      0.49      0.59      1124\n",
      "                 offer       0.00      0.00      0.00        30\n",
      "           aid_related       0.67      0.56      0.61      2706\n",
      "          medical_help       0.29      0.13      0.18       553\n",
      "      medical_products       0.24      0.17      0.20       351\n",
      "     search_and_rescue       0.83      0.03      0.05       192\n",
      "              security       0.00      0.00      0.00       124\n",
      "              military       0.67      0.05      0.09       203\n",
      "           child_alone       0.00      0.00      0.00         0\n",
      "                 water       0.51      0.30      0.38       425\n",
      "                  food       0.49      0.41      0.45       757\n",
      "               shelter       0.34      0.25      0.29       571\n",
      "              clothing       0.85      0.16      0.27       107\n",
      "                 money       0.64      0.04      0.08       160\n",
      "        missing_people       1.00      0.01      0.02        84\n",
      "              refugees       0.20      0.01      0.03       218\n",
      "                 death       0.24      0.22      0.23       288\n",
      "             other_aid       0.37      0.02      0.04       840\n",
      "infrastructure_related       0.22      0.03      0.05       429\n",
      "             transport       0.58      0.05      0.09       304\n",
      "             buildings       0.33      0.12      0.17       333\n",
      "           electricity       0.83      0.06      0.12       154\n",
      "                 tools       0.00      0.00      0.00        38\n",
      "             hospitals       0.00      0.00      0.00        80\n",
      "                 shops       0.00      0.00      0.00        26\n",
      "           aid_centers       0.00      0.00      0.00        65\n",
      "  other_infrastructure       0.00      0.00      0.00       297\n",
      "       weather_related       0.65      0.51      0.57      1784\n",
      "                floods       0.41      0.30      0.35       532\n",
      "                 storm       0.60      0.32      0.41       602\n",
      "                  fire       1.00      0.05      0.09        65\n",
      "            earthquake       0.76      0.36      0.49       611\n",
      "                  cold       0.50      0.03      0.06       132\n",
      "         other_weather       0.45      0.01      0.03       345\n",
      "         direct_report       0.79      0.40      0.53      1304\n",
      "\n",
      "           avg / total       0.62      0.47      0.50     20909\n",
      "\n"
     ]
    },
    {
     "name": "stderr",
     "output_type": "stream",
     "text": [
      "/opt/conda/lib/python3.6/site-packages/sklearn/metrics/classification.py:1135: UndefinedMetricWarning: Precision and F-score are ill-defined and being set to 0.0 in labels with no predicted samples.\n",
      "  'precision', 'predicted', average, warn_for)\n",
      "/opt/conda/lib/python3.6/site-packages/sklearn/metrics/classification.py:1137: UndefinedMetricWarning: Recall and F-score are ill-defined and being set to 0.0 in labels with no true samples.\n",
      "  'recall', 'true', average, warn_for)\n"
     ]
    }
   ],
   "source": [
    "print(classification_report(y_test.values, y_pred2,target_names=Y.columns.values))"
   ]
  },
  {
   "cell_type": "markdown",
   "metadata": {},
   "source": [
    "### 8. Try improving your model further. Here are a few ideas:\n",
    "* try other machine learning algorithms\n",
    "* add other features besides the TF-IDF"
   ]
  },
  {
   "cell_type": "code",
   "execution_count": 25,
   "metadata": {},
   "outputs": [
    {
     "data": {
      "text/plain": [
       "Pipeline(memory=None,\n",
       "     steps=[('features', FeatureUnion(n_jobs=1,\n",
       "       transformer_list=[('text_pipeline', Pipeline(memory=None,\n",
       "     steps=[('vect', CountVectorizer(analyzer='word', binary=False, decode_error='strict',\n",
       "        dtype=<class 'numpy.int64'>, encoding='utf-8', input='content',\n",
       "        lowercase=True, max_d...ic_params=None, n_jobs=1, n_neighbors=10, p=2,\n",
       "           weights='uniform'),\n",
       "           n_jobs=1))])"
      ]
     },
     "execution_count": 25,
     "metadata": {},
     "output_type": "execute_result"
    }
   ],
   "source": [
    "model_improved = model_pipeline_improved()\n",
    "model_improved.fit(X_train, y_train)"
   ]
  },
  {
   "cell_type": "code",
   "execution_count": 26,
   "metadata": {},
   "outputs": [],
   "source": [
    "y_pred3 = model_improved.predict(X_test)"
   ]
  },
  {
   "cell_type": "code",
   "execution_count": 27,
   "metadata": {},
   "outputs": [
    {
     "name": "stdout",
     "output_type": "stream",
     "text": [
      "                        precision    recall  f1-score   support\n",
      "\n",
      "               related       0.83      0.94      0.88      5075\n",
      "               request       0.77      0.50      0.61      1124\n",
      "                 offer       0.00      0.00      0.00        30\n",
      "           aid_related       0.67      0.56      0.61      2706\n",
      "          medical_help       0.35      0.12      0.17       553\n",
      "      medical_products       0.33      0.15      0.21       351\n",
      "     search_and_rescue       0.75      0.03      0.06       192\n",
      "              security       0.00      0.00      0.00       124\n",
      "              military       0.67      0.05      0.09       203\n",
      "           child_alone       0.00      0.00      0.00         0\n",
      "                 water       0.62      0.27      0.37       425\n",
      "                  food       0.53      0.39      0.45       757\n",
      "               shelter       0.36      0.21      0.26       571\n",
      "              clothing       0.93      0.13      0.23       107\n",
      "                 money       0.67      0.04      0.07       160\n",
      "        missing_people       1.00      0.01      0.02        84\n",
      "              refugees       0.43      0.01      0.03       218\n",
      "                 death       0.27      0.18      0.22       288\n",
      "             other_aid       0.49      0.02      0.04       840\n",
      "infrastructure_related       0.23      0.01      0.01       429\n",
      "             transport       0.74      0.05      0.09       304\n",
      "             buildings       0.41      0.10      0.16       333\n",
      "           electricity       0.83      0.06      0.12       154\n",
      "                 tools       0.00      0.00      0.00        38\n",
      "             hospitals       0.00      0.00      0.00        80\n",
      "                 shops       0.00      0.00      0.00        26\n",
      "           aid_centers       0.00      0.00      0.00        65\n",
      "  other_infrastructure       0.00      0.00      0.00       297\n",
      "       weather_related       0.67      0.51      0.58      1784\n",
      "                floods       0.44      0.29      0.35       532\n",
      "                 storm       0.60      0.31      0.41       602\n",
      "                  fire       1.00      0.05      0.09        65\n",
      "            earthquake       0.77      0.35      0.48       611\n",
      "                  cold       0.50      0.03      0.06       132\n",
      "         other_weather       0.57      0.01      0.02       345\n",
      "         direct_report       0.79      0.42      0.55      1304\n",
      "\n",
      "           avg / total       0.64      0.46      0.50     20909\n",
      "\n"
     ]
    },
    {
     "name": "stderr",
     "output_type": "stream",
     "text": [
      "/opt/conda/lib/python3.6/site-packages/sklearn/metrics/classification.py:1135: UndefinedMetricWarning: Precision and F-score are ill-defined and being set to 0.0 in labels with no predicted samples.\n",
      "  'precision', 'predicted', average, warn_for)\n",
      "/opt/conda/lib/python3.6/site-packages/sklearn/metrics/classification.py:1137: UndefinedMetricWarning: Recall and F-score are ill-defined and being set to 0.0 in labels with no true samples.\n",
      "  'recall', 'true', average, warn_for)\n"
     ]
    }
   ],
   "source": [
    "print(classification_report(y_test.values, y_pred3,target_names=Y.columns.values))"
   ]
  },
  {
   "cell_type": "markdown",
   "metadata": {},
   "source": [
    "### 9. Export your model as a pickle file"
   ]
  },
  {
   "cell_type": "code",
   "execution_count": 29,
   "metadata": {},
   "outputs": [],
   "source": [
    "model_filepath = 'classifier.pk'\n",
    "file = open(model_filepath, 'wb')\n",
    "pickle.dump(model, file)\n",
    "file.close()"
   ]
  },
  {
   "cell_type": "markdown",
   "metadata": {},
   "source": [
    "### 10. Use this notebook to complete `train.py`\n",
    "Use the template file attached in the Resources folder to write a script that runs the steps above to create a database and export a model based on a new dataset specified by the user."
   ]
  },
  {
   "cell_type": "code",
   "execution_count": null,
   "metadata": {},
   "outputs": [],
   "source": []
  }
 ],
 "metadata": {
  "kernelspec": {
   "display_name": "Python 3",
   "language": "python",
   "name": "python3"
  },
  "language_info": {
   "codemirror_mode": {
    "name": "ipython",
    "version": 3
   },
   "file_extension": ".py",
   "mimetype": "text/x-python",
   "name": "python",
   "nbconvert_exporter": "python",
   "pygments_lexer": "ipython3",
   "version": "3.6.3"
  }
 },
 "nbformat": 4,
 "nbformat_minor": 2
}
